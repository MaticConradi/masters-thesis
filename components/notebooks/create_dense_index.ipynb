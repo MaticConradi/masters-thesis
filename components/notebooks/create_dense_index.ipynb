{
 "cells": [
  {
   "cell_type": "code",
   "execution_count": null,
   "id": "02e18ba0",
   "metadata": {},
   "outputs": [],
   "source": [
    "from dotenv import load_dotenv\n",
    "load_dotenv()\n",
    "\n",
    "from os import getenv\n",
    "from random import random\n",
    "import re\n",
    "from glob import glob\n",
    "from orjson import loads\n",
    "from tqdm import tqdm\n",
    "import numpy as np\n",
    "import faiss\n",
    "from supabase import create_client, Client"
   ]
  },
  {
   "cell_type": "code",
   "execution_count": null,
   "id": "18fa711b",
   "metadata": {},
   "outputs": [],
   "source": [
    "supabase = create_client(getenv(\"SUPABASE_URL\"), getenv(\"SUPABASE_KEY\"))"
   ]
  },
  {
   "cell_type": "code",
   "execution_count": null,
   "id": "cee55dba",
   "metadata": {},
   "outputs": [],
   "source": [
    "EMBEDDING_DIM = 3072\n",
    "index = faiss.IndexIDMap(\n",
    "\tfaiss.IndexScalarQuantizer(\n",
    "\t\tEMBEDDING_DIM,\n",
    "\t\tfaiss.ScalarQuantizer.QT_8bit\n",
    "\t)\n",
    ")"
   ]
  },
  {
   "cell_type": "code",
   "execution_count": null,
   "id": "64166377",
   "metadata": {},
   "outputs": [],
   "source": [
    "files = sorted(glob(\"/Volumes/Vault/OpenAI Embeddings/*.jsonl\"))\n",
    "len(files)"
   ]
  },
  {
   "cell_type": "code",
   "execution_count": null,
   "id": "ab135896",
   "metadata": {},
   "outputs": [],
   "source": [
    "table = supabase.table(\"documents\")\n",
    "\n",
    "documents = []\n",
    "offset = 0\n",
    "while True:\n",
    "\tresponse = table.select(\"*\").range(offset, offset + 1000).execute()\n",
    "\tif not response.data:\n",
    "\t\tbreak\n",
    "\n",
    "\tdocuments.extend(response.data)\n",
    "\toffset += 1000\n",
    "\n",
    "documentIndexMap = {row[\"document\"]: row[\"id\"] for row in documents}"
   ]
  },
  {
   "cell_type": "code",
   "execution_count": null,
   "id": "e4566236",
   "metadata": {},
   "outputs": [],
   "source": [
    "def train_index():\n",
    "\tembeddings = []\n",
    "\n",
    "\tfor filename in tqdm(files):\n",
    "\t\twith open(filename, \"r\") as f:\n",
    "\t\t\tfor line in f:\n",
    "\t\t\t\tif random() < 0.9:\n",
    "\t\t\t\t\tcontinue\n",
    "\n",
    "\t\t\t\tdata = loads(line)\n",
    "\t\t\t\tbody = data[\"response\"][\"body\"]\n",
    "\t\t\t\tif \"data\" not in body:\n",
    "\t\t\t\t\tcontinue\n",
    "\n",
    "\t\t\t\tembedding = np.array(body[\"data\"][0][\"embedding\"], dtype=np.float32)\n",
    "\t\t\t\tembeddings.append(embedding)\n",
    "\n",
    "\tindex.train(np.array(embeddings, dtype=np.float32))\n",
    "\n",
    "train_index()"
   ]
  },
  {
   "cell_type": "code",
   "execution_count": null,
   "id": "e5c4df49",
   "metadata": {},
   "outputs": [],
   "source": [
    "def process_dense_vectors(filename):\n",
    "\tidentifiers = []\n",
    "\tembeddings = []\n",
    "\n",
    "\twith open(filename, \"r\") as f:\n",
    "\t\tfor line in f:\n",
    "\t\t\tdata = loads(line)\n",
    "\t\t\tbody = data[\"response\"][\"body\"]\n",
    "\t\t\tif \"data\" not in body:\n",
    "\t\t\t\tcontinue\n",
    "\n",
    "\t\t\tidentifier = documentIndexMap[re.sub(r'_\\d+_\\d+$', '', data[\"custom_id\"])]\n",
    "\t\t\tembedding = np.array(body[\"data\"][0][\"embedding\"], dtype=np.float32)\n",
    "\t\t\tidentifiers.append(identifier)\n",
    "\t\t\tembeddings.append(embedding)\n",
    "\n",
    "\tidentifiers = np.array(identifiers, dtype=np.int64)\n",
    "\tembeddings = np.array(embeddings, dtype=np.float32)\n",
    "\n",
    "\tindex.add_with_ids(embeddings, identifiers)\n",
    "\n",
    "for filename in tqdm(files):\n",
    "\tprocess_dense_vectors(filename)\n",
    "\n",
    "index.ntotal"
   ]
  },
  {
   "cell_type": "code",
   "execution_count": null,
   "id": "2b67dd11",
   "metadata": {},
   "outputs": [],
   "source": [
    "faiss.write_index(index, \"output/dense_index.faiss\")"
   ]
  }
 ],
 "metadata": {
  "kernelspec": {
   "display_name": ".venv",
   "language": "python",
   "name": "python3"
  },
  "language_info": {
   "codemirror_mode": {
    "name": "ipython",
    "version": 3
   },
   "file_extension": ".py",
   "mimetype": "text/x-python",
   "name": "python",
   "nbconvert_exporter": "python",
   "pygments_lexer": "ipython3",
   "version": "3.10.18"
  }
 },
 "nbformat": 4,
 "nbformat_minor": 5
}
