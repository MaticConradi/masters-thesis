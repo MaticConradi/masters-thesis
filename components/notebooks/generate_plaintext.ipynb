{
 "cells": [
  {
   "cell_type": "code",
   "execution_count": null,
   "id": "4a289b08",
   "metadata": {},
   "outputs": [],
   "source": [
    "from concurrent.futures import ThreadPoolExecutor\n",
    "from tqdm import tqdm\n",
    "import re\n",
    "\n",
    "from utils.storage import list_plaintextless_files, download_processed_mmd_file, upload_plaintext"
   ]
  },
  {
   "cell_type": "code",
   "execution_count": null,
   "id": "06895803",
   "metadata": {},
   "outputs": [],
   "source": [
    "files = list_plaintextless_files()\n",
    "len(files)"
   ]
  },
  {
   "cell_type": "code",
   "execution_count": null,
   "id": "1152d2be",
   "metadata": {},
   "outputs": [],
   "source": [
    "with ThreadPoolExecutor() as executor:\n",
    "\tmds = list(tqdm(executor.map(download_processed_mmd_file, files), total=len(files)))"
   ]
  },
  {
   "cell_type": "code",
   "execution_count": null,
   "id": "9c9c0348",
   "metadata": {},
   "outputs": [],
   "source": [
    "def mmd_to_plain_text(mmd_text: str) -> str:\n",
    "\t# Remove all content after the \"References\" section.\n",
    "\ttext = re.sub(r'^(#*\\s*References\\s*)$[\\s\\S]*', '', mmd_text, flags=re.MULTILINE | re.IGNORECASE)\n",
    "\n",
    "\t# Remove fenced code blocks (```...```)\n",
    "\ttext = re.sub(r'```.*?```', '', text, flags=re.DOTALL)\n",
    "\n",
    "\t# Remove block equations ($$...$$)\n",
    "\ttext = re.sub(r'\\$\\$.*?\\$\\$', '', text, flags=re.DOTALL)\n",
    "\n",
    "\t# Remove tables\n",
    "\ttext = re.sub(r'\\\\begin\\{table\\}.*?\\\\end\\{table\\}', '', text, flags=re.DOTALL)\n",
    "\n",
    "\ttext = re.sub(r'^#+.*$\\n?', '', text, flags=re.MULTILINE)\n",
    "\n",
    "\t# Remove Figure, Table, and Footnote captions/lines\n",
    "\ttext = re.sub(r'^(Figure \\d+|Table \\d+|Footnote \\d+):.*$', '', text, flags=re.MULTILINE)\n",
    "\n",
    "\t# Remove email addresses\n",
    "\ttext = re.sub(r'[a-zA-Z0-9._%+-]+@[a-zA-Z0-9.-]+\\.[a-zA-Z]{2,}', '', text)\n",
    "\n",
    "\t# Remove inline equations (\\(...\\))\n",
    "\ttext = re.sub(r'\\\\\\([\\s\\S]*?\\\\\\)', '', text)\n",
    "\n",
    "\t# Convert bold: **text** -> text\n",
    "\ttext = re.sub(r'\\*\\*(.*?)\\*\\*', r'\\1', text)\n",
    "\n",
    "\t# Convert italics: _text_ or *text* -> text\n",
    "\ttext = re.sub(r'[_*](.*?)[_*]', r'\\1', text)\n",
    "\n",
    "\t# Convert links: [link text](URL) -> link text\n",
    "\ttext = re.sub(r'\\[([^\\]]+)\\]\\([^\\)]+\\)', r'\\1', text)\n",
    "\n",
    "\t# Remove any remaining LaTeX-like backslashed commands\n",
    "\ttext = re.sub(r'\\\\[a-zA-Z]+', '', text)\n",
    "\n",
    "\t# Remove citations\n",
    "\ttext = re.sub(r'\\[\\d+\\]', '', text)\n",
    "\n",
    "\t# Fix punctuation: remove space before punctuation\n",
    "\ttext = re.sub(r'\\s+([.,?!;:])', r'\\1', text)\n",
    "\n",
    "\t# Fix punctuation: consolidate multiple punctuation marks\n",
    "\ttext = re.sub(r'([.,?!;:])\\1+', r'\\1', text)\n",
    "\n",
    "\t# Consolidate multiple blank lines into a single blank line\n",
    "\ttext = re.sub(r'\\n{3,}', '\\n\\n', text)\n",
    "\n",
    "\t# Remove double spaces\n",
    "\ttext = re.sub(r' {2,}', ' ', text)\n",
    "\n",
    "\t# Remove leading/trailing whitespace from the whole text and from each line\n",
    "\tlines = [line.strip() for line in text.strip().split('\\n')]\n",
    "\ttext = '\\n'.join(lines)\n",
    "\n",
    "\treturn text"
   ]
  },
  {
   "cell_type": "code",
   "execution_count": null,
   "id": "fe187e9c",
   "metadata": {},
   "outputs": [],
   "source": [
    "def process_file(input_tuple):\n",
    "    md, filename = input_tuple\n",
    "    cleaned_text = mmd_to_plain_text(md)\n",
    "    upload_plaintext(filename, cleaned_text)\n",
    "\n",
    "with ThreadPoolExecutor() as executor:\n",
    "    list(tqdm(executor.map(process_file, zip(mds, files)), total=len(files)))"
   ]
  }
 ],
 "metadata": {
  "kernelspec": {
   "display_name": ".venv",
   "language": "python",
   "name": "python3"
  },
  "language_info": {
   "codemirror_mode": {
    "name": "ipython",
    "version": 3
   },
   "file_extension": ".py",
   "mimetype": "text/x-python",
   "name": "python",
   "nbconvert_exporter": "python",
   "pygments_lexer": "ipython3",
   "version": "3.10.18"
  }
 },
 "nbformat": 4,
 "nbformat_minor": 5
}
