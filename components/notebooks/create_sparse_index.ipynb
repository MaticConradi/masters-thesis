{
 "cells": [
  {
   "cell_type": "code",
   "execution_count": null,
   "id": "7eab92f3",
   "metadata": {},
   "outputs": [],
   "source": [
    "from dotenv import load_dotenv\n",
    "load_dotenv()\n",
    "\n",
    "from os import getenv\n",
    "from time import sleep\n",
    "import sqlite3\n",
    "from concurrent.futures import ThreadPoolExecutor\n",
    "from threading import Lock\n",
    "from tqdm import tqdm\n",
    "import numpy as np\n",
    "from scipy.sparse import csr_matrix, vstack\n",
    "from transformers import AutoTokenizer\n",
    "from supabase import create_client, Client\n",
    "\n",
    "from utils.storage import list_sparse_vector_files, download_sparse_vectors"
   ]
  },
  {
   "cell_type": "code",
   "execution_count": null,
   "id": "8292d5d5",
   "metadata": {},
   "outputs": [],
   "source": [
    "supabase = create_client(getenv(\"SUPABASE_URL\"), getenv(\"SUPABASE_KEY\"))"
   ]
  },
  {
   "cell_type": "code",
   "execution_count": null,
   "id": "e67b6fe6",
   "metadata": {},
   "outputs": [],
   "source": [
    "TOP_K = 128"
   ]
  },
  {
   "cell_type": "code",
   "execution_count": null,
   "id": "acef2858",
   "metadata": {},
   "outputs": [],
   "source": [
    "MODEL_NAME = \"naver/splade-cocondenser-ensembledistil\"\n",
    "tokenizer = AutoTokenizer.from_pretrained(MODEL_NAME)\n",
    "tokenizer.vocab_size"
   ]
  },
  {
   "cell_type": "code",
   "execution_count": null,
   "id": "5af76deb",
   "metadata": {},
   "outputs": [],
   "source": [
    "files = list_sparse_vector_files()\n",
    "len(files)"
   ]
  },
  {
   "cell_type": "code",
   "execution_count": null,
   "id": "9d147055",
   "metadata": {},
   "outputs": [],
   "source": [
    "table = supabase.table(\"documents\")\n",
    "\n",
    "table.upsert(\n",
    "\t[{\"document\": filename} for filename in files],\n",
    "\tignore_duplicates=True,\n",
    "\ton_conflict=[\"document\"]\n",
    ").execute()\n",
    "\n",
    "documents = []\n",
    "offset = 0\n",
    "while True:\n",
    "\tresponse = table.select(\"*\").range(offset, offset + 1000).execute()\n",
    "\tif not response.data:\n",
    "\t\tbreak\n",
    "\n",
    "\tdocuments.extend(response.data)\n",
    "\toffset += 1000\n",
    "\n",
    "documentIndexMap = {row[\"document\"]: row[\"id\"] for row in documents}"
   ]
  },
  {
   "cell_type": "code",
   "execution_count": null,
   "id": "8e15dac8",
   "metadata": {},
   "outputs": [],
   "source": [
    "lock = Lock()\n",
    "\n",
    "def process_sparse_vectors(filename):\n",
    "\tvectors = download_sparse_vectors(filename)\n",
    "\tchunks = []\n",
    "\n",
    "\tfor idx, vector in vectors.items():\n",
    "\t\tindices = list(int(k) for k in vector.keys())\n",
    "\t\tvalues = list(float(v) for v in vector.values())\n",
    "\t\tdata = csr_matrix((values, (np.zeros_like(values), indices)), shape=(1, tokenizer.vocab_size))\n",
    "\t\tchunks.append(data)\n",
    "\n",
    "\tif len(chunks) == 0:\n",
    "\t\treturn\n",
    "\n",
    "\tvector = chunks[0] if len(chunks) == 1 else vstack(chunks).max(axis=0).tocsr()\n",
    "\tdata = sorted(zip(vector.indices, vector.data), key=lambda x: x[1], reverse=True)[:TOP_K]\n",
    "\n",
    "\tinsertionData = []\n",
    "\tfor termIndex, score in data:\n",
    "\t\tif score > 0:\n",
    "\t\t\tinsertionData.append({ \"term\": int(termIndex), \"document_id\": documentIndexMap[filename], \"score\": float(score) })\n",
    "\n",
    "\twhile True:\n",
    "\t\ttry:\n",
    "\t\t\twith lock:\n",
    "\t\t\t\tsupabase.table(\"sparse_index\").upsert(insertionData).execute()\n",
    "\t\t\tbreak\n",
    "\t\texcept KeyboardInterrupt as e:\n",
    "\t\t\traise e\n",
    "\t\texcept Exception as e:\n",
    "\t\t\tprint(e)\n",
    "\t\t\tsleep(5)\n",
    "\n",
    "with ThreadPoolExecutor() as executor:\n",
    "\t_ = list(tqdm(executor.map(process_sparse_vectors, files), total=len(files)))"
   ]
  }
 ],
 "metadata": {
  "kernelspec": {
   "display_name": ".venv",
   "language": "python",
   "name": "python3"
  },
  "language_info": {
   "codemirror_mode": {
    "name": "ipython",
    "version": 3
   },
   "file_extension": ".py",
   "mimetype": "text/x-python",
   "name": "python",
   "nbconvert_exporter": "python",
   "pygments_lexer": "ipython3",
   "version": "3.10.18"
  }
 },
 "nbformat": 4,
 "nbformat_minor": 5
}
