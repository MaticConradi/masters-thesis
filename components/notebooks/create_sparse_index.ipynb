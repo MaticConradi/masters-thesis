{
 "cells": [
  {
   "cell_type": "code",
   "execution_count": null,
   "id": "7eab92f3",
   "metadata": {},
   "outputs": [],
   "source": [
    "from dotenv import load_dotenv\n",
    "load_dotenv()\n",
    "\n",
    "from os import getenv\n",
    "from time import sleep\n",
    "import sqlite3\n",
    "from concurrent.futures import ThreadPoolExecutor\n",
    "from threading import Lock\n",
    "from tqdm import tqdm\n",
    "import numpy as np\n",
    "from scipy.sparse import csr_matrix, vstack\n",
    "from transformers import AutoTokenizer\n",
    "\n",
    "from utils.storage import list_sparse_vector_files, download_sparse_vectors"
   ]
  },
  {
   "cell_type": "code",
   "execution_count": null,
   "id": "e67b6fe6",
   "metadata": {},
   "outputs": [],
   "source": [
    "TOP_K = 128"
   ]
  },
  {
   "cell_type": "code",
   "execution_count": null,
   "id": "acef2858",
   "metadata": {},
   "outputs": [],
   "source": [
    "MODEL_NAME = \"naver/splade-cocondenser-ensembledistil\"\n",
    "tokenizer = AutoTokenizer.from_pretrained(MODEL_NAME)\n",
    "tokenizer.vocab_size"
   ]
  },
  {
   "cell_type": "code",
   "execution_count": null,
   "id": "3c4fc0e9",
   "metadata": {},
   "outputs": [],
   "source": [
    "DB_PATH = \"./output/sparse_index.db\"\n",
    "conn = sqlite3.connect(DB_PATH, check_same_thread=False)\n",
    "cursor = conn.cursor()\n",
    "\n",
    "cursor.execute('''\n",
    "\tCREATE TABLE IF NOT EXISTS documents (\n",
    "\t\tid INTEGER PRIMARY KEY AUTOINCREMENT,\n",
    "\t\tfilename TEXT UNIQUE\n",
    "\t);\n",
    "''')\n",
    "cursor.execute('''\n",
    "\tCREATE TABLE IF NOT EXISTS inverted_index (\n",
    "\t\tterm INTEGER,\n",
    "\t\tdocument_id INTEGER,\n",
    "\t\tscore REAL,\n",
    "\t\tPRIMARY KEY (term, document_id)\n",
    "\t\tFOREIGN KEY (document_id) REFERENCES documents(id)\n",
    "\t);\n",
    "''')\n",
    "cursor.execute('''\n",
    "\tCREATE INDEX IF NOT EXISTS idx_term ON inverted_index (term);\n",
    "''')"
   ]
  },
  {
   "cell_type": "code",
   "execution_count": null,
   "id": "5af76deb",
   "metadata": {},
   "outputs": [],
   "source": [
    "files = list_sparse_vector_files()\n",
    "len(files)"
   ]
  },
  {
   "cell_type": "code",
   "execution_count": null,
   "id": "9d147055",
   "metadata": {},
   "outputs": [],
   "source": [
    "cursor.executemany(\n",
    "\t\"INSERT OR IGNORE INTO documents (filename) VALUES (?)\",\n",
    "\t[(filename,) for filename in files]\n",
    ")\n",
    "conn.commit()\n",
    "\n",
    "cursor.execute(\"SELECT id, filename FROM documents\")\n",
    "documents = cursor.fetchall()\n",
    "\n",
    "documentIndexMap = {row[1]: row[0] for row in documents}"
   ]
  },
  {
   "cell_type": "code",
   "execution_count": null,
   "id": "8e15dac8",
   "metadata": {},
   "outputs": [],
   "source": [
    "lock = Lock()\n",
    "\n",
    "def process_sparse_vectors(filename):\n",
    "\tvectors = download_sparse_vectors(filename)\n",
    "\tchunks = []\n",
    "\n",
    "\tfor idx, vector in vectors.items():\n",
    "\t\tindices = list(int(k) for k in vector.keys())\n",
    "\t\tvalues = list(float(v) for v in vector.values())\n",
    "\t\tdata = csr_matrix((values, (np.zeros_like(values), indices)), shape=(1, tokenizer.vocab_size))\n",
    "\t\tchunks.append(data)\n",
    "\n",
    "\tif len(chunks) == 0:\n",
    "\t\treturn\n",
    "\n",
    "\tvector = chunks[0] if len(chunks) == 1 else vstack(chunks).max(axis=0).tocsr()\n",
    "\tdata = sorted(zip(vector.indices, vector.data), key=lambda x: x[1], reverse=True)[:TOP_K]\n",
    "\n",
    "\tinsertionData = []\n",
    "\tfor termIndex, score in data:\n",
    "\t\tif score > 0:\n",
    "\t\t\tinsertionData.append((int(termIndex), documentIndexMap[filename], float(score)))\n",
    "\n",
    "\tif not insertionData:\n",
    "\t\treturn\n",
    "\n",
    "\twith lock:\n",
    "\t\tcursor.executemany(\n",
    "\t\t\t\"INSERT OR REPLACE INTO inverted_index (term, document_id, score) VALUES (?, ?, ?)\",\n",
    "\t\t\tinsertionData\n",
    "\t\t)\n",
    "\t\tconn.commit()\n",
    "\n",
    "with ThreadPoolExecutor() as executor:\n",
    "\t_ = list(tqdm(executor.map(process_sparse_vectors, files), total=len(files)))"
   ]
  }
 ],
 "metadata": {
  "kernelspec": {
   "display_name": ".venv",
   "language": "python",
   "name": "python3"
  },
  "language_info": {
   "codemirror_mode": {
    "name": "ipython",
    "version": 3
   },
   "file_extension": ".py",
   "mimetype": "text/x-python",
   "name": "python",
   "nbconvert_exporter": "python",
   "pygments_lexer": "ipython3",
   "version": "3.10.18"
  }
 },
 "nbformat": 4,
 "nbformat_minor": 5
}
