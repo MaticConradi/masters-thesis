{
 "cells": [
  {
   "cell_type": "code",
   "execution_count": null,
   "id": "4a289b08",
   "metadata": {},
   "outputs": [],
   "source": [
    "from concurrent.futures import ThreadPoolExecutor\n",
    "from tqdm import tqdm\n",
    "from json import dumps\n",
    "from keybert import KeyBERT\n",
    "\n",
    "from utils.storage import list_keywordless_mmd_files, download_processed_mmd_file, upload_keywords"
   ]
  },
  {
   "cell_type": "code",
   "execution_count": null,
   "id": "46050e19",
   "metadata": {},
   "outputs": [],
   "source": [
    "model = KeyBERT()"
   ]
  },
  {
   "cell_type": "code",
   "execution_count": null,
   "id": "06895803",
   "metadata": {},
   "outputs": [],
   "source": [
    "files = list_keywordless_mmd_files()\n",
    "len(files)"
   ]
  },
  {
   "cell_type": "code",
   "execution_count": null,
   "id": "1152d2be",
   "metadata": {},
   "outputs": [],
   "source": [
    "with ThreadPoolExecutor() as executor:\n",
    "\tmds = list(tqdm(executor.map(download_processed_mmd_file, files), total=len(files)))"
   ]
  },
  {
   "cell_type": "code",
   "execution_count": null,
   "id": "7f8e1db0",
   "metadata": {},
   "outputs": [],
   "source": [
    "def extract_keywords(md):\n",
    "\treturn model.extract_keywords(md, use_mmr=True, diversity=0.4, stop_words=\"english\", top_n=20, keyphrase_ngram_range=(1, 2))\n",
    "\n",
    "with ThreadPoolExecutor() as executor:\n",
    "\tkeywords = list(tqdm(executor.map(extract_keywords, mds), total=len(mds)))"
   ]
  },
  {
   "cell_type": "code",
   "execution_count": null,
   "id": "4265dd31",
   "metadata": {},
   "outputs": [],
   "source": [
    "for filename, kw in tqdm(zip(files, keywords), total=len(files)):\n",
    "\tupload_keywords(filename, kw)"
   ]
  }
 ],
 "metadata": {
  "kernelspec": {
   "display_name": ".venv",
   "language": "python",
   "name": "python3"
  },
  "language_info": {
   "codemirror_mode": {
    "name": "ipython",
    "version": 3
   },
   "file_extension": ".py",
   "mimetype": "text/x-python",
   "name": "python",
   "nbconvert_exporter": "python",
   "pygments_lexer": "ipython3",
   "version": "3.10.18"
  }
 },
 "nbformat": 4,
 "nbformat_minor": 5
}
