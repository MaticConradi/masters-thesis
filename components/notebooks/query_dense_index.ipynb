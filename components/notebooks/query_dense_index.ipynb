{
 "cells": [
  {
   "cell_type": "code",
   "execution_count": 1,
   "id": "02e18ba0",
   "metadata": {},
   "outputs": [],
   "source": [
    "from dotenv import load_dotenv\n",
    "load_dotenv()\n",
    "\n",
    "from os import getenv\n",
    "import numpy as np\n",
    "from openai import OpenAI\n",
    "import faiss\n",
    "from supabase import create_client, Client"
   ]
  },
  {
   "cell_type": "code",
   "execution_count": 2,
   "id": "80417bfc",
   "metadata": {},
   "outputs": [],
   "source": [
    "supabase = create_client(getenv(\"SUPABASE_URL\"), getenv(\"SUPABASE_KEY\"))"
   ]
  },
  {
   "cell_type": "code",
   "execution_count": 3,
   "id": "6136b4e3",
   "metadata": {},
   "outputs": [],
   "source": [
    "client = OpenAI()"
   ]
  },
  {
   "cell_type": "code",
   "execution_count": 4,
   "id": "5652e139",
   "metadata": {},
   "outputs": [],
   "source": [
    "table = supabase.table(\"documents\")\n",
    "\n",
    "documents = []\n",
    "offset = 0\n",
    "while True:\n",
    "\tresponse = table.select(\"*\").range(offset, offset + 1000).execute()\n",
    "\tif not response.data:\n",
    "\t\tbreak\n",
    "\n",
    "\tdocuments.extend(response.data)\n",
    "\toffset += 1000\n",
    "\n",
    "indexDocumentMap = {row[\"id\"]: row[\"document\"] for row in documents}"
   ]
  },
  {
   "cell_type": "code",
   "execution_count": 5,
   "id": "9c6839a0",
   "metadata": {},
   "outputs": [
    {
     "data": {
      "text/plain": [
       "4942142"
      ]
     },
     "execution_count": 5,
     "metadata": {},
     "output_type": "execute_result"
    }
   ],
   "source": [
    "index = faiss.read_index(\"output/dense_index.faiss\")\n",
    "index.ntotal"
   ]
  },
  {
   "cell_type": "code",
   "execution_count": 6,
   "id": "1ccda9e5",
   "metadata": {},
   "outputs": [
    {
     "name": "stdout",
     "output_type": "stream",
     "text": [
      "Tt9GSaDaHyVLN1oMDrnj0A: 0.4451\n",
      "kMaAZU7oMBrunMCHZqfVFQ: 0.4870\n",
      "UXDJP0bThAmEqOhRYGpJvw: 0.4875\n",
      "tg-pd-uYVcy0a4iZFF4_Gg: 0.5673\n",
      "t3fWAVVd7Q_9TQAz4RjuIw: 0.5948\n"
     ]
    }
   ],
   "source": [
    "def search_index(query, k):\n",
    "\tresponse = client.embeddings.create(\n",
    "\t\tinput=query,\n",
    "\t\tmodel=\"text-embedding-3-large\"\n",
    "\t)\n",
    "\tembedding = np.array(response.data[0].embedding, dtype=np.float32).reshape(1, -1)\n",
    "\n",
    "\tdistances, identifiers = index.search(embedding, k)\n",
    "\n",
    "\tfor i in range(k):\n",
    "\t\tdocument = indexDocumentMap[identifiers[0, i]]\n",
    "\t\tneighbor_distance = distances[0, i]\n",
    "\t\tprint(f\"{document}: {neighbor_distance:.4f}\")\n",
    "\n",
    "search_index(\"state of the art image segmentation\", k=5)"
   ]
  }
 ],
 "metadata": {
  "kernelspec": {
   "display_name": ".venv",
   "language": "python",
   "name": "python3"
  },
  "language_info": {
   "codemirror_mode": {
    "name": "ipython",
    "version": 3
   },
   "file_extension": ".py",
   "mimetype": "text/x-python",
   "name": "python",
   "nbconvert_exporter": "python",
   "pygments_lexer": "ipython3",
   "version": "3.10.18"
  }
 },
 "nbformat": 4,
 "nbformat_minor": 5
}
