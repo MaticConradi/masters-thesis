{
 "cells": [
  {
   "cell_type": "code",
   "execution_count": 1,
   "id": "02e18ba0",
   "metadata": {},
   "outputs": [],
   "source": [
    "from dotenv import load_dotenv\n",
    "load_dotenv()\n",
    "\n",
    "from os import getenv\n",
    "from json import dump\n",
    "import sqlite3\n",
    "import numpy as np\n",
    "from openai import OpenAI\n",
    "import faiss"
   ]
  },
  {
   "cell_type": "code",
   "execution_count": 2,
   "id": "6136b4e3",
   "metadata": {},
   "outputs": [],
   "source": [
    "client = OpenAI()"
   ]
  },
  {
   "cell_type": "code",
   "execution_count": 3,
   "id": "3a237408",
   "metadata": {},
   "outputs": [],
   "source": [
    "DB_PATH = \"./output/sparse_index.db\"\n",
    "conn = sqlite3.connect(DB_PATH, check_same_thread=False)\n",
    "cursor = conn.cursor()"
   ]
  },
  {
   "cell_type": "code",
   "execution_count": 4,
   "id": "5652e139",
   "metadata": {},
   "outputs": [],
   "source": [
    "cursor.execute(\"SELECT id, filename FROM documents\")\n",
    "documents = cursor.fetchall()\n",
    "\n",
    "indexDocumentMap = {row[0]: row[1] for row in documents}"
   ]
  },
  {
   "cell_type": "code",
   "execution_count": 5,
   "id": "9c6839a0",
   "metadata": {},
   "outputs": [
    {
     "data": {
      "text/plain": [
       "4942142"
      ]
     },
     "execution_count": 5,
     "metadata": {},
     "output_type": "execute_result"
    }
   ],
   "source": [
    "index = faiss.read_index(\"output/dense_index.faiss\")\n",
    "index.ntotal"
   ]
  },
  {
   "cell_type": "code",
   "execution_count": 6,
   "id": "1ccda9e5",
   "metadata": {},
   "outputs": [],
   "source": [
    "def search_index(query, k):\n",
    "\tresponse = client.embeddings.create(\n",
    "\t\tinput=query,\n",
    "\t\tmodel=\"text-embedding-3-large\"\n",
    "\t)\n",
    "\tembedding = np.array(response.data[0].embedding, dtype=np.float32).reshape(1, -1)\n",
    "\n",
    "\tdistances, identifiers = index.search(embedding, k * 4)\n",
    "\n",
    "\tdocumentIds = []\n",
    "\tresults = []\n",
    "\tfor i in range(identifiers.shape[1]):\n",
    "\t\tdocument = indexDocumentMap[identifiers[0, i]]\n",
    "\t\tif document not in documentIds:\n",
    "\t\t\tdocumentIds.append(document)\n",
    "\t\t\tresults.append((document, float(1 / (distances[0, i] + 0.00000001))))\n",
    "\n",
    "\treturn results[:k]"
   ]
  },
  {
   "cell_type": "code",
   "execution_count": 7,
   "id": "34316070",
   "metadata": {},
   "outputs": [
    {
     "name": "stdout",
     "output_type": "stream",
     "text": [
      "Tt9GSaDaHyVLN1oMDrnj0A: 2.2462\n",
      "UXDJP0bThAmEqOhRYGpJvw: 2.0511\n",
      "kMaAZU7oMBrunMCHZqfVFQ: 2.0508\n",
      "tg-pd-uYVcy0a4iZFF4_Gg: 1.7629\n",
      "xxe1EcEz25CACxXxd36mYQ: 1.6825\n"
     ]
    }
   ],
   "source": [
    "results = search_index(\"state of the art image segmentation\", k=5)\n",
    "for filename, distance in results:\n",
    "    print(f\"{filename}: {distance:.4f}\")"
   ]
  }
 ],
 "metadata": {
  "kernelspec": {
   "display_name": ".venv",
   "language": "python",
   "name": "python3"
  },
  "language_info": {
   "codemirror_mode": {
    "name": "ipython",
    "version": 3
   },
   "file_extension": ".py",
   "mimetype": "text/x-python",
   "name": "python",
   "nbconvert_exporter": "python",
   "pygments_lexer": "ipython3",
   "version": "3.10.18"
  }
 },
 "nbformat": 4,
 "nbformat_minor": 5
}
