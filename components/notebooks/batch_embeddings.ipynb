{
 "cells": [
  {
   "cell_type": "code",
   "execution_count": null,
   "id": "02e18ba0",
   "metadata": {},
   "outputs": [],
   "source": [
    "from dotenv import load_dotenv\n",
    "load_dotenv()\n",
    "\n",
    "from os import getenv\n",
    "from time import sleep\n",
    "from concurrent.futures import ThreadPoolExecutor\n",
    "from tqdm import tqdm\n",
    "from json import dumps\n",
    "from langchain_text_splitters import RecursiveCharacterTextSplitter\n",
    "from openai import OpenAI\n",
    "\n",
    "from utils.storage import list_processed_mmd_files, download_plain_text"
   ]
  },
  {
   "cell_type": "code",
   "execution_count": null,
   "id": "0b1e4c6f",
   "metadata": {},
   "outputs": [],
   "source": [
    "client = OpenAI()"
   ]
  },
  {
   "cell_type": "code",
   "execution_count": null,
   "id": "8bb15a85",
   "metadata": {},
   "outputs": [],
   "source": [
    "splitter = RecursiveCharacterTextSplitter(\n",
    "\tchunk_size=10000,\n",
    "\tchunk_overlap=100,\n",
    "\tlength_function=len,\n",
    "\tis_separator_regex=False,\n",
    ")"
   ]
  },
  {
   "cell_type": "code",
   "execution_count": null,
   "id": "702dd942",
   "metadata": {},
   "outputs": [],
   "source": [
    "files = list_processed_mmd_files()\n",
    "len(files)"
   ]
  },
  {
   "cell_type": "code",
   "execution_count": null,
   "id": "aeef9382",
   "metadata": {},
   "outputs": [],
   "source": [
    "with ThreadPoolExecutor() as executor:\n",
    "\tplain = list(tqdm(executor.map(download_plain_text, files), total=len(files)))"
   ]
  },
  {
   "cell_type": "code",
   "execution_count": null,
   "id": "d7ce7b38",
   "metadata": {},
   "outputs": [],
   "source": [
    "MAX_LINES_PER_FILE = 50000\n",
    "\n",
    "currentFileIndex = 0\n",
    "currentLineCount = 0\n",
    "currentFile = None\n",
    "\n",
    "def getNextBatchFile():\n",
    "    global currentFileIndex, currentLineCount, currentFile\n",
    "\n",
    "    if currentFile:\n",
    "        currentFile.close()\n",
    "\n",
    "    currentFileIndex += 1\n",
    "    currentLineCount = 0\n",
    "\n",
    "    filename = f\"output/batch_job_{currentFileIndex:03d}.jsonl\"\n",
    "    currentFile = open(filename, \"w\")\n",
    "\n",
    "    return currentFile\n",
    "\n",
    "currentFile = getNextBatchFile()\n",
    "\n",
    "try:\n",
    "    for text, filename in tqdm(zip(plain, files), total=len(files)):\n",
    "        for i, section in enumerate(text.split(\"\\n\\n\")):\n",
    "            chunks = splitter.split_text(section)\n",
    "            for j, chunk in enumerate(chunks):\n",
    "                if currentLineCount >= MAX_LINES_PER_FILE:\n",
    "                    currentFile = getNextBatchFile()\n",
    "\n",
    "                currentFile.write(dumps({\n",
    "                    \"custom_id\": f\"{filename}_{i}_{j}\",\n",
    "                    \"method\": \"POST\",\n",
    "                    \"url\": \"/v1/embeddings\",\n",
    "                    \"body\": {\n",
    "                        \"model\": \"text-embedding-3-large\",\n",
    "                        \"input\": chunk,\n",
    "                        \"encoding_format\": \"float\"\n",
    "                    }\n",
    "                }) + \"\\n\")\n",
    "                currentLineCount += 1\n",
    "finally:\n",
    "    if currentFile:\n",
    "        currentFile.close()\n",
    "\n",
    "print(f\"Created {currentFileIndex} batch files\")"
   ]
  },
  {
   "cell_type": "code",
   "execution_count": null,
   "id": "f5538b14",
   "metadata": {},
   "outputs": [],
   "source": [
    "batchFiles = []\n",
    "for i in range(currentFileIndex):\n",
    "\tbatchFiles.append(client.files.create(\n",
    "\t\tfile=open(f\"output/batch_job_{i+1:03d}.jsonl\", \"rb\"),\n",
    "\t\tpurpose=\"batch\"\n",
    "\t))"
   ]
  },
  {
   "cell_type": "code",
   "execution_count": null,
   "id": "f3ecce48",
   "metadata": {},
   "outputs": [],
   "source": [
    "jobs = []\n",
    "for batchFile in tqdm(batchFiles):\n",
    "\tjobs.append(client.batches.create(\n",
    "\t\tinput_file_id=batchFile.id,\n",
    "\t\tendpoint=\"/v1/embeddings\",\n",
    "\t\tcompletion_window=\"24h\",\n",
    "\t))"
   ]
  }
 ],
 "metadata": {
  "kernelspec": {
   "display_name": ".venv",
   "language": "python",
   "name": "python3"
  },
  "language_info": {
   "codemirror_mode": {
    "name": "ipython",
    "version": 3
   },
   "file_extension": ".py",
   "mimetype": "text/x-python",
   "name": "python",
   "nbconvert_exporter": "python",
   "pygments_lexer": "ipython3",
   "version": "3.10.18"
  }
 },
 "nbformat": 4,
 "nbformat_minor": 5
}
