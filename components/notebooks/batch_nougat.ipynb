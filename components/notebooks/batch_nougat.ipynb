{
 "cells": [
  {
   "cell_type": "code",
   "execution_count": null,
   "id": "f50ce86c-6fc9-4a79-84c9-5d48a3c8d4c1",
   "metadata": {},
   "outputs": [],
   "source": [
    "from time import time\n",
    "from os import path, getenv, environ\n",
    "import subprocess\n",
    "import tempfile\n",
    "import shutil\n",
    "from google.cloud import storage\n",
    "from concurrent.futures import ThreadPoolExecutor, as_completed\n",
    "\n",
    "from utils.storage import list_unprocessed_pdf_files"
   ]
  },
  {
   "cell_type": "code",
   "execution_count": null,
   "id": "7f602703-065f-401e-bdd4-4a53a7f1bd75",
   "metadata": {},
   "outputs": [],
   "source": [
    "CHUNK_SIZE = 16"
   ]
  },
  {
   "cell_type": "code",
   "execution_count": null,
   "id": "700bc27f",
   "metadata": {},
   "outputs": [],
   "source": [
    "def _download_blob(bucket, gcs_pdf_filename, local_pdf_path):\n",
    "\ttry:\n",
    "\t\tblob = bucket.blob(gcs_pdf_filename)\n",
    "\t\tblob.download_to_filename(local_pdf_path)\n",
    "\t\treturn local_pdf_path\n",
    "\texcept Exception as e:\n",
    "\t\treturn None\n",
    "\n",
    "def _upload_blob(bucket, local_mmd_path, gcs_mmd_filename):\n",
    "\ttry:\n",
    "\t\tmmd_blob = bucket.blob(gcs_mmd_filename)\n",
    "\t\tmmd_blob.upload_from_filename(local_mmd_path)\n",
    "\t\treturn gcs_mmd_filename\n",
    "\texcept Exception as e:\n",
    "\t\treturn None"
   ]
  },
  {
   "cell_type": "code",
   "execution_count": null,
   "id": "8cea94ac-f642-486d-85f6-7a887f13ebf0",
   "metadata": {},
   "outputs": [],
   "source": [
    "def process_pdf_files(pdf_filenames, max_workers=10):\n",
    "\tif not pdf_filenames:\n",
    "\t\treturn\n",
    "\n",
    "\ttemporaryDir = tempfile.mkdtemp()\n",
    "\tstart = time()\n",
    "\n",
    "\ttry:\n",
    "\t\tlocal_pdf_paths = []\n",
    "\t\tfutures_map = {}\n",
    "\n",
    "\t\twith ThreadPoolExecutor(max_workers=max_workers) as executor:\n",
    "\t\t\tfor pdf_filename in pdf_filenames:\n",
    "\t\t\t\tlocal_pdf_path = path.join(temporaryDir, path.basename(pdf_filename))\n",
    "\t\t\t\tfuture = executor.submit(_download_blob, bucket, pdf_filename, local_pdf_path)\n",
    "\t\t\t\tfutures_map[future] = pdf_filename\n",
    "\n",
    "\t\t\tfor future in as_completed(futures_map):\n",
    "\t\t\t\tresult = future.result()\n",
    "\t\t\t\tif result:\n",
    "\t\t\t\t\tlocal_pdf_paths.append(result)\n",
    "\n",
    "\t\tif not local_pdf_paths:\n",
    "\t\t\treturn\n",
    "\n",
    "\t\ttry:\n",
    "\t\t\tsubprocess.run(\n",
    "\t\t\t\t[\"nougat\", \"-o\", temporaryDir, \"--no-skipping\"] + local_pdf_paths,\n",
    "\t\t\t\tcheck=True,\n",
    "\t\t\t\tcapture_output=True,\n",
    "\t\t\t\ttext=True\n",
    "\t\t\t)\n",
    "\t\texcept subprocess.CalledProcessError as e:\n",
    "\t\t\tprint(e.stderr)\n",
    "\n",
    "\t\tfutures_map = {}\n",
    "\t\twith ThreadPoolExecutor(max_workers=max_workers) as executor:\n",
    "\t\t\tfor pdf_filename in pdf_filenames:\n",
    "\t\t\t\tbase_name = path.basename(pdf_filename)\n",
    "\t\t\t\tfilename, _ = path.splitext(base_name)\n",
    "\t\t\t\tmmd_base_name = f\"{filename}.mmd\"\n",
    "\t\t\t\tlocal_mmd_path = path.join(temporaryDir, mmd_base_name)\n",
    "\n",
    "\t\t\t\tif path.exists(local_mmd_path):\n",
    "\t\t\t\t\tgcs_mmd_filename = f\"{path.splitext(pdf_filename)[0]}.mmd\"\n",
    "\t\t\t\t\tfuture = executor.submit(_upload_blob, bucket, local_mmd_path, gcs_mmd_filename)\n",
    "\t\t\t\t\tfutures_map[future] = gcs_mmd_filename\n",
    "\n",
    "\t\t\tfor future in as_completed(futures_map):\n",
    "\t\t\t\ttry:\n",
    "\t\t\t\t\tfuture.result()\n",
    "\t\t\t\texcept Exception as e:\n",
    "\t\t\t\t\tpass\n",
    "\n",
    "\t\tprint(f\"Finished in {time() - start} seconds\")\n",
    "\n",
    "\texcept Exception as e:\n",
    "\t\tprint(e)\n",
    "\tfinally:\n",
    "\t\tif path.exists(temporaryDir):\n",
    "\t\t\tshutil.rmtree(temporaryDir)"
   ]
  },
  {
   "cell_type": "code",
   "execution_count": null,
   "id": "006d905a-646d-48da-84c6-9243153a73f8",
   "metadata": {},
   "outputs": [],
   "source": [
    "def iterate_in_chunks(data, chunk_size):\n",
    "    for i in range(0, len(data), chunk_size):\n",
    "        yield data[i:i + chunk_size]"
   ]
  },
  {
   "cell_type": "code",
   "execution_count": null,
   "id": "2cef4d6d-ae40-4023-844b-9fdae53ee8ea",
   "metadata": {},
   "outputs": [],
   "source": [
    "unprocessedFiles = list_unprocessed_pdf_files()\n",
    "print(f\"Found {len(unprocessedFiles)} PDF files to process\")"
   ]
  },
  {
   "cell_type": "code",
   "execution_count": null,
   "id": "64a5da90-6cb0-4a60-ba11-eb08df7c3432",
   "metadata": {},
   "outputs": [],
   "source": [
    "processed_files = []\n",
    "errors = []\n",
    "for filenames in iterate_in_chunks(unprocessedFiles, CHUNK_SIZE):\n",
    "    process_pdf_files(filenames)\n",
    "    processed_files += filenames\n",
    "    print(f\"Finished processing for {len(filenames)} files\")"
   ]
  }
 ],
 "metadata": {
  "kernelspec": {
   "display_name": "Python 3 (ipykernel)",
   "language": "python",
   "name": "python3"
  },
  "language_info": {
   "codemirror_mode": {
    "name": "ipython",
    "version": 3
   },
   "file_extension": ".py",
   "mimetype": "text/x-python",
   "name": "python",
   "nbconvert_exporter": "python",
   "pygments_lexer": "ipython3",
   "version": "3.11.11"
  }
 },
 "nbformat": 4,
 "nbformat_minor": 5
}
