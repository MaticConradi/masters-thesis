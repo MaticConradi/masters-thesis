{
 "cells": [
  {
   "cell_type": "code",
   "execution_count": 1,
   "id": "7eab92f3",
   "metadata": {},
   "outputs": [
    {
     "name": "stderr",
     "output_type": "stream",
     "text": [
      "/Users/Matic/Documents/School/Magistrska/Monorepo/components/notebooks/.venv/lib/python3.10/site-packages/tqdm/auto.py:21: TqdmWarning: IProgress not found. Please update jupyter and ipywidgets. See https://ipywidgets.readthedocs.io/en/stable/user_install.html\n",
      "  from .autonotebook import tqdm as notebook_tqdm\n"
     ]
    }
   ],
   "source": [
    "from dotenv import load_dotenv\n",
    "load_dotenv()\n",
    "\n",
    "from os import getenv\n",
    "from json import dump\n",
    "from collections import defaultdict\n",
    "import sqlite3\n",
    "import numpy as np\n",
    "import torch\n",
    "from scipy.sparse import csr_matrix\n",
    "from transformers import AutoTokenizer, AutoModelForMaskedLM\n",
    "from supabase import create_client, Client"
   ]
  },
  {
   "cell_type": "code",
   "execution_count": 2,
   "id": "29f42447",
   "metadata": {},
   "outputs": [],
   "source": [
    "supabase = create_client(getenv(\"SUPABASE_URL\"), getenv(\"SUPABASE_KEY\"))"
   ]
  },
  {
   "cell_type": "code",
   "execution_count": 3,
   "id": "70475bd0",
   "metadata": {},
   "outputs": [
    {
     "data": {
      "text/plain": [
       "device(type='mps', index=0)"
      ]
     },
     "execution_count": 3,
     "metadata": {},
     "output_type": "execute_result"
    }
   ],
   "source": [
    "MODEL_NAME = \"naver/splade-cocondenser-ensembledistil\"\n",
    "tokenizer = AutoTokenizer.from_pretrained(MODEL_NAME)\n",
    "model = AutoModelForMaskedLM.from_pretrained(MODEL_NAME, device_map=\"auto\", torch_dtype=torch.float16)\n",
    "model.eval()\n",
    "\n",
    "model.device"
   ]
  },
  {
   "cell_type": "code",
   "execution_count": 4,
   "id": "3d5af7a4",
   "metadata": {},
   "outputs": [],
   "source": [
    "def search_index(query: str, k: int):\n",
    "\ttokens = tokenizer(query, return_tensors='pt', padding=False, truncation=False)\n",
    "\tif tokens['input_ids'].shape[1] > 512:\n",
    "\t\traise ValueError(\"Input text is too long\")\n",
    "\n",
    "\ttokens = {k: v.to(model.device) for k, v in tokens.items()}\n",
    "\n",
    "\twith torch.no_grad():\n",
    "\t\toutputs = model(**tokens)\n",
    "\n",
    "\tvector = torch.max(\n",
    "\t\ttorch.log(1 + torch.relu(outputs.logits)) * tokens['attention_mask'].unsqueeze(-1),\n",
    "\t\tdim=1\n",
    "\t)[0].squeeze()\n",
    "\n",
    "\tindices = vector.nonzero().squeeze().cpu().tolist()\n",
    "\tif not isinstance(indices, list):\n",
    "\t\tindices = [indices]\n",
    "\n",
    "\tif len(indices) == 0:\n",
    "\t\traise []\n",
    "\n",
    "\tweights = vector[indices].cpu().tolist()\n",
    "\n",
    "\tresponse = supabase.rpc(\"search_splade_index\", {\n",
    "\t\t\"p_query_terms\": [{\"term\": int(idx), \"score\": float(score)} for idx, score in zip(indices, weights)],\n",
    "\t\t\"p_top_k\": k\n",
    "\t}).execute()\n",
    "\n",
    "\tresults = {}\n",
    "\tfor row in response.data:\n",
    "\t\tresults[row['document']] = row['total_score']\n",
    "\n",
    "\treturn results"
   ]
  },
  {
   "cell_type": "code",
   "execution_count": 5,
   "id": "6695670f",
   "metadata": {},
   "outputs": [
    {
     "name": "stdout",
     "output_type": "stream",
     "text": [
      "LPeoJSBciKrMfVGnis9rvg: 20.8188\n",
      "a84sFqjaRXr4N_hLI9vCWQ: 20.3556\n",
      "XFFwdctZiWtBfwkRRL2l3A: 19.0164\n",
      "NmRj10H0M6CFxiaySnKtkA: 18.7227\n",
      "Bau9eDjWEeQLfK-5uVzo-Q: 18.6545\n"
     ]
    }
   ],
   "source": [
    "results = search_index(\"state of the art image segmentation\", k=5)\n",
    "for filename, distance in results.items():\n",
    "    print(f\"{filename}: {distance:.4f}\")"
   ]
  }
 ],
 "metadata": {
  "kernelspec": {
   "display_name": ".venv",
   "language": "python",
   "name": "python3"
  },
  "language_info": {
   "codemirror_mode": {
    "name": "ipython",
    "version": 3
   },
   "file_extension": ".py",
   "mimetype": "text/x-python",
   "name": "python",
   "nbconvert_exporter": "python",
   "pygments_lexer": "ipython3",
   "version": "3.10.18"
  }
 },
 "nbformat": 4,
 "nbformat_minor": 5
}
