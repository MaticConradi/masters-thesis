{
 "cells": [
  {
   "cell_type": "code",
   "execution_count": 1,
   "id": "7eab92f3",
   "metadata": {},
   "outputs": [
    {
     "name": "stderr",
     "output_type": "stream",
     "text": [
      "/Users/Matic/Documents/School/Magistrska/Monorepo/components/notebooks/.venv/lib/python3.10/site-packages/tqdm/auto.py:21: TqdmWarning: IProgress not found. Please update jupyter and ipywidgets. See https://ipywidgets.readthedocs.io/en/stable/user_install.html\n",
      "  from .autonotebook import tqdm as notebook_tqdm\n"
     ]
    }
   ],
   "source": [
    "from dotenv import load_dotenv\n",
    "load_dotenv()\n",
    "\n",
    "from os import getenv\n",
    "from json import dump\n",
    "from collections import defaultdict\n",
    "import sqlite3\n",
    "import numpy as np\n",
    "import torch\n",
    "from scipy.sparse import csr_matrix\n",
    "from transformers import AutoTokenizer, AutoModelForMaskedLM"
   ]
  },
  {
   "cell_type": "code",
   "execution_count": 2,
   "id": "29f42447",
   "metadata": {},
   "outputs": [],
   "source": [
    "DB_PATH = \"./output/sparse_index.db\"\n",
    "conn = sqlite3.connect(DB_PATH, check_same_thread=False)\n",
    "cursor = conn.cursor()"
   ]
  },
  {
   "cell_type": "code",
   "execution_count": 3,
   "id": "70475bd0",
   "metadata": {},
   "outputs": [
    {
     "data": {
      "text/plain": [
       "device(type='mps', index=0)"
      ]
     },
     "execution_count": 3,
     "metadata": {},
     "output_type": "execute_result"
    }
   ],
   "source": [
    "MODEL_NAME = \"naver/splade-cocondenser-ensembledistil\"\n",
    "tokenizer = AutoTokenizer.from_pretrained(MODEL_NAME)\n",
    "model = AutoModelForMaskedLM.from_pretrained(MODEL_NAME, device_map=\"auto\", torch_dtype=torch.float16)\n",
    "model.eval()\n",
    "\n",
    "model.device"
   ]
  },
  {
   "cell_type": "code",
   "execution_count": 4,
   "id": "3d5af7a4",
   "metadata": {},
   "outputs": [],
   "source": [
    "def search_index(query, k):\n",
    "\ttokens = tokenizer(query, return_tensors='pt', padding=False, truncation=False)\n",
    "\tif tokens['input_ids'].shape[1] > 512:\n",
    "\t\traise ValueError(\"Input text is too long\")\n",
    "\n",
    "\ttokens = {k: v.to(model.device) for k, v in tokens.items()}\n",
    "\n",
    "\twith torch.no_grad():\n",
    "\t\toutputs = model(**tokens)\n",
    "\n",
    "\tvector = torch.max(\n",
    "\t\ttorch.log(1 + torch.relu(outputs.logits)) * tokens['attention_mask'].unsqueeze(-1),\n",
    "\t\tdim=1\n",
    "\t)[0].squeeze()\n",
    "\n",
    "\tindices = vector.nonzero().squeeze().cpu().tolist()\n",
    "\tif not isinstance(indices, list):\n",
    "\t\tindices = [indices]\n",
    "\n",
    "\tif len(indices) == 0:\n",
    "\t\treturn []\n",
    "\n",
    "\tweights = vector[indices].cpu().tolist()\n",
    "\n",
    "\tparams = []\n",
    "\tfor idx, score in zip(indices, weights):\n",
    "\t\tparams.extend([int(idx), float(score)])\n",
    "\tparams.append(k)\n",
    "\n",
    "\tvalues_placeholders = ', '.join(['(?,?)'] * len(indices))\n",
    "\n",
    "\tsql_query = f'''\n",
    "\t\tWITH query_terms(term, score) AS (\n",
    "\t\t\tVALUES {values_placeholders}\n",
    "\t\t)\n",
    "\t\tSELECT\n",
    "\t\t\td.filename AS document,\n",
    "\t\t\tSUM(idx.score * q.score) AS total_score\n",
    "\t\tFROM\n",
    "\t\t\tinverted_index AS idx\n",
    "\t\tJOIN\n",
    "\t\t\tquery_terms AS q ON idx.term = q.term\n",
    "\t\tJOIN\n",
    "\t\t\tdocuments AS d ON idx.document_id = d.id\n",
    "\t\tGROUP BY\n",
    "\t\t\tidx.document_id, d.filename\n",
    "\t\tORDER BY\n",
    "\t\t\ttotal_score DESC\n",
    "\t\tLIMIT ?\n",
    "\t'''\n",
    "\n",
    "\tcursor.execute(sql_query, params)\n",
    "\treturn cursor.fetchall()"
   ]
  },
  {
   "cell_type": "code",
   "execution_count": 5,
   "id": "6695670f",
   "metadata": {},
   "outputs": [
    {
     "name": "stdout",
     "output_type": "stream",
     "text": [
      "LPeoJSBciKrMfVGnis9rvg: 20.8188\n",
      "a84sFqjaRXr4N_hLI9vCWQ: 20.3556\n",
      "XFFwdctZiWtBfwkRRL2l3A: 19.0164\n",
      "NmRj10H0M6CFxiaySnKtkA: 18.7227\n",
      "Bau9eDjWEeQLfK-5uVzo-Q: 18.6545\n"
     ]
    }
   ],
   "source": [
    "results = search_index(\"state of the art image segmentation\", k=5)\n",
    "for filename, distance in results:\n",
    "    print(f\"{filename}: {distance:.4f}\")"
   ]
  }
 ],
 "metadata": {
  "kernelspec": {
   "display_name": ".venv",
   "language": "python",
   "name": "python3"
  },
  "language_info": {
   "codemirror_mode": {
    "name": "ipython",
    "version": 3
   },
   "file_extension": ".py",
   "mimetype": "text/x-python",
   "name": "python",
   "nbconvert_exporter": "python",
   "pygments_lexer": "ipython3",
   "version": "3.10.18"
  }
 },
 "nbformat": 4,
 "nbformat_minor": 5
}
